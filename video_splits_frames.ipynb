{
 "cells": [
  {
   "cell_type": "code",
   "execution_count": 4,
   "metadata": {},
   "outputs": [],
   "source": [
    "import numpy as np\n",
    "from moviepy.video.io.ffmpeg_tools import ffmpeg_extract_subclip\n",
    "import cv2 "
   ]
  },
  {
   "cell_type": "code",
   "execution_count": 14,
   "metadata": {},
   "outputs": [
    {
     "name": "stdout",
     "output_type": "stream",
     "text": [
      "\n",
      "[MoviePy] Running:\n",
      ">>> /Users/panyue/anaconda3/bin/ffmpeg -y -i Why Do We Play Games.mp4 -ss 637.00 -t 63.00 -vcodec copy -acodec copy Why Do We Play Games_cropped.mp4\n",
      "... command successful.\n"
     ]
    }
   ],
   "source": [
    "ffmpeg_extract_subclip(\"Why Do We Play Games.mp4\", 10*60+37, 11*60+40, targetname=\"Why Do We Play Games_cropped.mp4\")\n",
    "# Function to extract frames \n",
    "def FrameCapture(path): \n",
    "      \n",
    "    # Path to video file \n",
    "    vidObj = cv2.VideoCapture(path) \n",
    "    # Used as counter variable \n",
    "    count = 0\n",
    "  \n",
    "    # checks whether frames were extracted \n",
    "    success = 1\n",
    "  \n",
    "    while success: \n",
    "  \n",
    "        # vidObj object calls read \n",
    "        # function extract frames \n",
    "        success, image = vidObj.read() \n",
    "  \n",
    "        # Saves the frames with frame-count \n",
    "        cv2.imwrite(\"frame%d.jpg\" % count, image) \n",
    "  \n",
    "        count += 1\n",
    "  \n",
    "# Driver Code \n",
    "if __name__ == '__main__': \n",
    "  \n",
    "    # Calling the function \n",
    "    FrameCapture(\"Why Do We Play Games_cropped.mp4\")"
   ]
  },
  {
   "cell_type": "code",
   "execution_count": null,
   "metadata": {},
   "outputs": [],
   "source": []
  }
 ],
 "metadata": {
  "kernelspec": {
   "display_name": "Python 3",
   "language": "python",
   "name": "python3"
  },
  "language_info": {
   "codemirror_mode": {
    "name": "ipython",
    "version": 3
   },
   "file_extension": ".py",
   "mimetype": "text/x-python",
   "name": "python",
   "nbconvert_exporter": "python",
   "pygments_lexer": "ipython3",
   "version": "3.6.5"
  }
 },
 "nbformat": 4,
 "nbformat_minor": 2
}
